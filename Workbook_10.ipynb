{
 "cells": [
  {
   "cell_type": "code",
   "execution_count": 12,
   "id": "37b7c94c-db63-4147-a8f8-a43c376cfe62",
   "metadata": {
    "tags": []
   },
   "outputs": [],
   "source": [
    "from plotly import graph_objects as go\n",
    "import plotly.express as px\n",
    "from rich import print as rprint"
   ]
  },
  {
   "cell_type": "code",
   "execution_count": 13,
   "id": "06735376-8861-4b68-ae2a-74aea06a5234",
   "metadata": {
    "tags": []
   },
   "outputs": [],
   "source": [
    "building_w = 80 # m\n",
    "building_d = 25 # m\n",
    "building_h = 20 # m\n",
    "no_stories = 5 # amount"
   ]
  },
  {
   "cell_type": "code",
   "execution_count": 14,
   "id": "3e2fc398-b2bb-4e80-a037-a40eebe003c2",
   "metadata": {
    "tags": []
   },
   "outputs": [],
   "source": [
    "building = {\n",
    "    'nodes_floor': [[0, 0], [building_w, 0], [building_w, building_d], [0, building_d]], # [i, j] nodes ground level\n",
    "    'edges_floor': [[0, 1], [1, 2], [2, 3], [3, 0]] # [i, j] meaning nodes ground level\n",
    "}"
   ]
  },
  {
   "cell_type": "code",
   "execution_count": 15,
   "id": "d874baa5-69da-4db5-ac58-569643d23428",
   "metadata": {
    "tags": []
   },
   "outputs": [],
   "source": [
    "core_1 = {\n",
    "    'nodes_floor': [[10, 10], [15, 10], [10, 20]], # [i, j] nodes ground level\n",
    "    'edges_floor': [[0, 1], [1, 2]] # [i, j] meaning nodes ground level\n",
    "}\n",
    "core_2 = {\n",
    "    'nodes_floor': [[30, 10], [35, 10], [30, 20]], # [i, j] nodes ground level\n",
    "    'edges_floor': [[0, 1], [1, 2]] # [i, j] meaning nodes ground level\n",
    "}\n",
    "cores = [core_1, core_2]  "
   ]
  },
  {
   "cell_type": "code",
   "execution_count": 16,
   "id": "b46114cc-6b6b-4870-a41f-3d586308be6b",
   "metadata": {
    "tags": []
   },
   "outputs": [],
   "source": [
    "# def add_roof_faces(nodes, edges):\n",
    "#     \"\"\"\n",
    "#     \"\"\"\n",
    "#     start_roof_idx = int(len(nodes) / 2)\n",
    "#     roof_faces = [[edges[0][0] + start_roof_idx, edges[1][0] + start_roof_idx, edges[2][0] + start_roof_idx]]\n",
    "#     roof_faces.append([edges[0][0] + start_roof_idx, edges[2][0] + start_roof_idx, edges[3][0] + start_roof_idx])\n",
    "#     return roof_faces"
   ]
  },
  {
   "cell_type": "code",
   "execution_count": 17,
   "id": "768a9d08-33c3-448b-9046-6c5ea07d0eaf",
   "metadata": {
    "tags": []
   },
   "outputs": [],
   "source": [
    "# def convert_geom_definition(geom_floor, building_h):\n",
    "#     \"\"\"\n",
    "#     \"\"\"\n",
    "#     nodes_floor = geom_floor['nodes_floor']\n",
    "#     edges_floor = geom_floor['edges_floor']\n",
    "        \n",
    "#     # Add height to node coordinates\n",
    "#     nodes = [node_floor + [0] for node_floor in nodes_floor]\n",
    "#     nodes += [node_floor + [building_h] for node_floor in nodes_floor]\n",
    "    \n",
    "#     # Define edges 3d\n",
    "#     start_roof_idx = int(len(nodes) / 2)\n",
    "#     # Horizontal edges\n",
    "#     edges = edges_floor + [[x + start_roof_idx, y + start_roof_idx] for x, y in edges_floor]\n",
    "#     # Vertical edges\n",
    "#     edges += [[idx, idx + start_roof_idx] for idx, node in enumerate(nodes_floor)]\n",
    "    \n",
    "#     faces = []\n",
    "#     for edge in geom_floor['edges_floor']:\n",
    "#         faces.append(edge + [edge[0] + start_roof_idx])\n",
    "#         faces.append([edge[0] + start_roof_idx, edge[1] + start_roof_idx, edge[1]])\n",
    "#     return (nodes, edges, faces)"
   ]
  },
  {
   "cell_type": "code",
   "execution_count": 18,
   "id": "86101f83-d51d-4bd6-b777-d5ae74ce5e4b",
   "metadata": {
    "tags": []
   },
   "outputs": [],
   "source": [
    "def plot_item_contour(fig, nodes, edges, color: str='rgb(0, 0, 255)', line_width: int=2, marker_size: int =2):\n",
    "    \"\"\"\n",
    "    \"\"\"\n",
    "    for i_node, j_node in edges:\n",
    "        x_coord_i, y_coord_i, z_coord_i = nodes[i_node]\n",
    "        x_coord_j, y_coord_j, z_coord_j = nodes[j_node]\n",
    "\n",
    "        trace = go.Scatter3d(\n",
    "            x = [x_coord_i, x_coord_j],\n",
    "            y = [y_coord_i, y_coord_j],\n",
    "            z = [z_coord_i, z_coord_j],\n",
    "            line = {\n",
    "                'color': color,\n",
    "                'width': line_width,\n",
    "            },\n",
    "            marker = {\n",
    "                'size': marker_size\n",
    "            },\n",
    "            showlegend = False\n",
    "        )\n",
    "        fig.add_trace(trace)\n",
    "    return fig"
   ]
  },
  {
   "cell_type": "code",
   "execution_count": 19,
   "id": "00d44aa6-d22f-474d-986a-1a07137a5053",
   "metadata": {
    "tags": []
   },
   "outputs": [],
   "source": [
    "def plot_item_faces(fig, nodes, faces, opacity=0.25, color: str='rgb(0, 0, 255)'):\n",
    "    \"\"\"\n",
    "    \"\"\"\n",
    "    # Add building_faces\n",
    "    x, y, z = zip(*nodes)\n",
    "    i, j, k = zip(*faces)\n",
    "\n",
    "    fig.add_trace(\n",
    "        go.Mesh3d(\n",
    "            x = x,\n",
    "            y = y,\n",
    "            z = z,\n",
    "            i = i,\n",
    "            j = j,\n",
    "            k = k,\n",
    "            opacity = opacity,\n",
    "            color = color\n",
    "        )\n",
    "    )\n",
    "    return fig"
   ]
  },
  {
   "cell_type": "code",
   "execution_count": 20,
   "id": "ab59dd03-374b-4deb-931a-cda0d81675a6",
   "metadata": {
    "tags": []
   },
   "outputs": [],
   "source": [
    "fig = go.Figure()\n",
    "\n",
    "nodes, edges, faces = convert_geom_definition(building, building_h)\n",
    "faces += add_roof_faces(nodes, edges)\n",
    "\n",
    "# plot building contour & faces\n",
    "plot_item_contour(fig, nodes, edges, color='rgb(0, 0, 255)', line_width=2, marker_size=2)\n",
    "plot_item_faces(fig, nodes, faces, opacity=0.25, color='rgb(0, 0, 255)')\n",
    "\n",
    "# plot cores contour & faces\n",
    "for core in cores:\n",
    "    nodes, edges, faces = convert_geom_definition(core, building_h)\n",
    "    plot_item_contour(fig, nodes, edges, color='rgb(255, 0, 0)', line_width=2, marker_size=2)\n",
    "    plot_item_faces(fig, nodes, faces, opacity=0.25, color='rgb(255, 0, 0)')\n",
    "pass"
   ]
  },
  {
   "cell_type": "code",
   "execution_count": 23,
   "id": "2650a570-4232-4654-8b4b-d3f7e7d39845",
   "metadata": {
    "tags": []
   },
   "outputs": [
    {
     "data": {
      "application/vnd.plotly.v1+json": {
       "config": {
        "plotlyServerURL": "https://plot.ly"
       },
       "data": [
        {
         "line": {
          "color": "rgb(0, 0, 255)",
          "width": 2
         },
         "marker": {
          "size": 2
         },
         "showlegend": false,
         "type": "scatter3d",
         "x": [
          0,
          80
         ],
         "y": [
          0,
          0
         ],
         "z": [
          0,
          0
         ]
        },
        {
         "line": {
          "color": "rgb(0, 0, 255)",
          "width": 2
         },
         "marker": {
          "size": 2
         },
         "showlegend": false,
         "type": "scatter3d",
         "x": [
          80,
          80
         ],
         "y": [
          0,
          25
         ],
         "z": [
          0,
          0
         ]
        },
        {
         "line": {
          "color": "rgb(0, 0, 255)",
          "width": 2
         },
         "marker": {
          "size": 2
         },
         "showlegend": false,
         "type": "scatter3d",
         "x": [
          80,
          0
         ],
         "y": [
          25,
          25
         ],
         "z": [
          0,
          0
         ]
        },
        {
         "line": {
          "color": "rgb(0, 0, 255)",
          "width": 2
         },
         "marker": {
          "size": 2
         },
         "showlegend": false,
         "type": "scatter3d",
         "x": [
          0,
          0
         ],
         "y": [
          25,
          0
         ],
         "z": [
          0,
          0
         ]
        },
        {
         "line": {
          "color": "rgb(0, 0, 255)",
          "width": 2
         },
         "marker": {
          "size": 2
         },
         "showlegend": false,
         "type": "scatter3d",
         "x": [
          0,
          80
         ],
         "y": [
          0,
          0
         ],
         "z": [
          20,
          20
         ]
        },
        {
         "line": {
          "color": "rgb(0, 0, 255)",
          "width": 2
         },
         "marker": {
          "size": 2
         },
         "showlegend": false,
         "type": "scatter3d",
         "x": [
          80,
          80
         ],
         "y": [
          0,
          25
         ],
         "z": [
          20,
          20
         ]
        },
        {
         "line": {
          "color": "rgb(0, 0, 255)",
          "width": 2
         },
         "marker": {
          "size": 2
         },
         "showlegend": false,
         "type": "scatter3d",
         "x": [
          80,
          0
         ],
         "y": [
          25,
          25
         ],
         "z": [
          20,
          20
         ]
        },
        {
         "line": {
          "color": "rgb(0, 0, 255)",
          "width": 2
         },
         "marker": {
          "size": 2
         },
         "showlegend": false,
         "type": "scatter3d",
         "x": [
          0,
          0
         ],
         "y": [
          25,
          0
         ],
         "z": [
          20,
          20
         ]
        },
        {
         "line": {
          "color": "rgb(0, 0, 255)",
          "width": 2
         },
         "marker": {
          "size": 2
         },
         "showlegend": false,
         "type": "scatter3d",
         "x": [
          0,
          0
         ],
         "y": [
          0,
          0
         ],
         "z": [
          0,
          20
         ]
        },
        {
         "line": {
          "color": "rgb(0, 0, 255)",
          "width": 2
         },
         "marker": {
          "size": 2
         },
         "showlegend": false,
         "type": "scatter3d",
         "x": [
          80,
          80
         ],
         "y": [
          0,
          0
         ],
         "z": [
          0,
          20
         ]
        },
        {
         "line": {
          "color": "rgb(0, 0, 255)",
          "width": 2
         },
         "marker": {
          "size": 2
         },
         "showlegend": false,
         "type": "scatter3d",
         "x": [
          80,
          80
         ],
         "y": [
          25,
          25
         ],
         "z": [
          0,
          20
         ]
        },
        {
         "line": {
          "color": "rgb(0, 0, 255)",
          "width": 2
         },
         "marker": {
          "size": 2
         },
         "showlegend": false,
         "type": "scatter3d",
         "x": [
          0,
          0
         ],
         "y": [
          25,
          25
         ],
         "z": [
          0,
          20
         ]
        },
        {
         "color": "rgb(0, 0, 255)",
         "i": [
          0,
          4,
          1,
          5,
          2,
          6,
          3,
          7,
          4,
          4
         ],
         "j": [
          1,
          5,
          2,
          6,
          3,
          7,
          0,
          4,
          5,
          6
         ],
         "k": [
          4,
          1,
          5,
          2,
          6,
          3,
          7,
          0,
          6,
          7
         ],
         "opacity": 0.25,
         "type": "mesh3d",
         "x": [
          0,
          80,
          80,
          0,
          0,
          80,
          80,
          0
         ],
         "y": [
          0,
          0,
          25,
          25,
          0,
          0,
          25,
          25
         ],
         "z": [
          0,
          0,
          0,
          0,
          20,
          20,
          20,
          20
         ]
        },
        {
         "line": {
          "color": "rgb(255, 0, 0)",
          "width": 2
         },
         "marker": {
          "size": 2
         },
         "showlegend": false,
         "type": "scatter3d",
         "x": [
          10,
          15
         ],
         "y": [
          10,
          10
         ],
         "z": [
          0,
          0
         ]
        },
        {
         "line": {
          "color": "rgb(255, 0, 0)",
          "width": 2
         },
         "marker": {
          "size": 2
         },
         "showlegend": false,
         "type": "scatter3d",
         "x": [
          15,
          10
         ],
         "y": [
          10,
          20
         ],
         "z": [
          0,
          0
         ]
        },
        {
         "line": {
          "color": "rgb(255, 0, 0)",
          "width": 2
         },
         "marker": {
          "size": 2
         },
         "showlegend": false,
         "type": "scatter3d",
         "x": [
          10,
          15
         ],
         "y": [
          10,
          10
         ],
         "z": [
          20,
          20
         ]
        },
        {
         "line": {
          "color": "rgb(255, 0, 0)",
          "width": 2
         },
         "marker": {
          "size": 2
         },
         "showlegend": false,
         "type": "scatter3d",
         "x": [
          15,
          10
         ],
         "y": [
          10,
          20
         ],
         "z": [
          20,
          20
         ]
        },
        {
         "line": {
          "color": "rgb(255, 0, 0)",
          "width": 2
         },
         "marker": {
          "size": 2
         },
         "showlegend": false,
         "type": "scatter3d",
         "x": [
          10,
          10
         ],
         "y": [
          10,
          10
         ],
         "z": [
          0,
          20
         ]
        },
        {
         "line": {
          "color": "rgb(255, 0, 0)",
          "width": 2
         },
         "marker": {
          "size": 2
         },
         "showlegend": false,
         "type": "scatter3d",
         "x": [
          15,
          15
         ],
         "y": [
          10,
          10
         ],
         "z": [
          0,
          20
         ]
        },
        {
         "line": {
          "color": "rgb(255, 0, 0)",
          "width": 2
         },
         "marker": {
          "size": 2
         },
         "showlegend": false,
         "type": "scatter3d",
         "x": [
          10,
          10
         ],
         "y": [
          20,
          20
         ],
         "z": [
          0,
          20
         ]
        },
        {
         "color": "rgb(255, 0, 0)",
         "i": [
          0,
          3,
          1,
          4
         ],
         "j": [
          1,
          4,
          2,
          5
         ],
         "k": [
          3,
          1,
          4,
          2
         ],
         "opacity": 0.25,
         "type": "mesh3d",
         "x": [
          10,
          15,
          10,
          10,
          15,
          10
         ],
         "y": [
          10,
          10,
          20,
          10,
          10,
          20
         ],
         "z": [
          0,
          0,
          0,
          20,
          20,
          20
         ]
        },
        {
         "line": {
          "color": "rgb(255, 0, 0)",
          "width": 2
         },
         "marker": {
          "size": 2
         },
         "showlegend": false,
         "type": "scatter3d",
         "x": [
          30,
          35
         ],
         "y": [
          10,
          10
         ],
         "z": [
          0,
          0
         ]
        },
        {
         "line": {
          "color": "rgb(255, 0, 0)",
          "width": 2
         },
         "marker": {
          "size": 2
         },
         "showlegend": false,
         "type": "scatter3d",
         "x": [
          35,
          30
         ],
         "y": [
          10,
          20
         ],
         "z": [
          0,
          0
         ]
        },
        {
         "line": {
          "color": "rgb(255, 0, 0)",
          "width": 2
         },
         "marker": {
          "size": 2
         },
         "showlegend": false,
         "type": "scatter3d",
         "x": [
          30,
          35
         ],
         "y": [
          10,
          10
         ],
         "z": [
          20,
          20
         ]
        },
        {
         "line": {
          "color": "rgb(255, 0, 0)",
          "width": 2
         },
         "marker": {
          "size": 2
         },
         "showlegend": false,
         "type": "scatter3d",
         "x": [
          35,
          30
         ],
         "y": [
          10,
          20
         ],
         "z": [
          20,
          20
         ]
        },
        {
         "line": {
          "color": "rgb(255, 0, 0)",
          "width": 2
         },
         "marker": {
          "size": 2
         },
         "showlegend": false,
         "type": "scatter3d",
         "x": [
          30,
          30
         ],
         "y": [
          10,
          10
         ],
         "z": [
          0,
          20
         ]
        },
        {
         "line": {
          "color": "rgb(255, 0, 0)",
          "width": 2
         },
         "marker": {
          "size": 2
         },
         "showlegend": false,
         "type": "scatter3d",
         "x": [
          35,
          35
         ],
         "y": [
          10,
          10
         ],
         "z": [
          0,
          20
         ]
        },
        {
         "line": {
          "color": "rgb(255, 0, 0)",
          "width": 2
         },
         "marker": {
          "size": 2
         },
         "showlegend": false,
         "type": "scatter3d",
         "x": [
          30,
          30
         ],
         "y": [
          20,
          20
         ],
         "z": [
          0,
          20
         ]
        },
        {
         "color": "rgb(255, 0, 0)",
         "i": [
          0,
          3,
          1,
          4
         ],
         "j": [
          1,
          4,
          2,
          5
         ],
         "k": [
          3,
          1,
          4,
          2
         ],
         "opacity": 0.25,
         "type": "mesh3d",
         "x": [
          30,
          35,
          30,
          30,
          35,
          30
         ],
         "y": [
          10,
          10,
          20,
          10,
          10,
          20
         ],
         "z": [
          0,
          0,
          0,
          20,
          20,
          20
         ]
        }
       ],
       "layout": {
        "dragmode": "zoom",
        "height": 800,
        "scene": {
         "aspectmode": "auto",
         "aspectratio": {
          "x": 2.3392141905702935,
          "y": 0.7310044345532167,
          "z": 0.5848035476425734
         },
         "camera": {
          "center": {
           "x": 0,
           "y": 0,
           "z": 0
          },
          "eye": {
           "x": 1.7012754516152229,
           "y": 2.3295310405188863,
           "z": 1.5809981826142194
          },
          "projection": {
           "type": "perspective"
          },
          "up": {
           "x": -0.20533411783416466,
           "y": -0.4424922965651048,
           "z": 0.8729481471048582
          }
         },
         "dragmode": "orbit",
         "xaxis": {
          "autorange": "reversed",
          "range": [
           0,
           176
          ],
          "type": "linear"
         }
        },
        "template": {
         "data": {
          "bar": [
           {
            "error_x": {
             "color": "#2a3f5f"
            },
            "error_y": {
             "color": "#2a3f5f"
            },
            "marker": {
             "line": {
              "color": "#E5ECF6",
              "width": 0.5
             },
             "pattern": {
              "fillmode": "overlay",
              "size": 10,
              "solidity": 0.2
             }
            },
            "type": "bar"
           }
          ],
          "barpolar": [
           {
            "marker": {
             "line": {
              "color": "#E5ECF6",
              "width": 0.5
             },
             "pattern": {
              "fillmode": "overlay",
              "size": 10,
              "solidity": 0.2
             }
            },
            "type": "barpolar"
           }
          ],
          "carpet": [
           {
            "aaxis": {
             "endlinecolor": "#2a3f5f",
             "gridcolor": "white",
             "linecolor": "white",
             "minorgridcolor": "white",
             "startlinecolor": "#2a3f5f"
            },
            "baxis": {
             "endlinecolor": "#2a3f5f",
             "gridcolor": "white",
             "linecolor": "white",
             "minorgridcolor": "white",
             "startlinecolor": "#2a3f5f"
            },
            "type": "carpet"
           }
          ],
          "choropleth": [
           {
            "colorbar": {
             "outlinewidth": 0,
             "ticks": ""
            },
            "type": "choropleth"
           }
          ],
          "contour": [
           {
            "colorbar": {
             "outlinewidth": 0,
             "ticks": ""
            },
            "colorscale": [
             [
              0,
              "#0d0887"
             ],
             [
              0.1111111111111111,
              "#46039f"
             ],
             [
              0.2222222222222222,
              "#7201a8"
             ],
             [
              0.3333333333333333,
              "#9c179e"
             ],
             [
              0.4444444444444444,
              "#bd3786"
             ],
             [
              0.5555555555555556,
              "#d8576b"
             ],
             [
              0.6666666666666666,
              "#ed7953"
             ],
             [
              0.7777777777777778,
              "#fb9f3a"
             ],
             [
              0.8888888888888888,
              "#fdca26"
             ],
             [
              1,
              "#f0f921"
             ]
            ],
            "type": "contour"
           }
          ],
          "contourcarpet": [
           {
            "colorbar": {
             "outlinewidth": 0,
             "ticks": ""
            },
            "type": "contourcarpet"
           }
          ],
          "heatmap": [
           {
            "colorbar": {
             "outlinewidth": 0,
             "ticks": ""
            },
            "colorscale": [
             [
              0,
              "#0d0887"
             ],
             [
              0.1111111111111111,
              "#46039f"
             ],
             [
              0.2222222222222222,
              "#7201a8"
             ],
             [
              0.3333333333333333,
              "#9c179e"
             ],
             [
              0.4444444444444444,
              "#bd3786"
             ],
             [
              0.5555555555555556,
              "#d8576b"
             ],
             [
              0.6666666666666666,
              "#ed7953"
             ],
             [
              0.7777777777777778,
              "#fb9f3a"
             ],
             [
              0.8888888888888888,
              "#fdca26"
             ],
             [
              1,
              "#f0f921"
             ]
            ],
            "type": "heatmap"
           }
          ],
          "heatmapgl": [
           {
            "colorbar": {
             "outlinewidth": 0,
             "ticks": ""
            },
            "colorscale": [
             [
              0,
              "#0d0887"
             ],
             [
              0.1111111111111111,
              "#46039f"
             ],
             [
              0.2222222222222222,
              "#7201a8"
             ],
             [
              0.3333333333333333,
              "#9c179e"
             ],
             [
              0.4444444444444444,
              "#bd3786"
             ],
             [
              0.5555555555555556,
              "#d8576b"
             ],
             [
              0.6666666666666666,
              "#ed7953"
             ],
             [
              0.7777777777777778,
              "#fb9f3a"
             ],
             [
              0.8888888888888888,
              "#fdca26"
             ],
             [
              1,
              "#f0f921"
             ]
            ],
            "type": "heatmapgl"
           }
          ],
          "histogram": [
           {
            "marker": {
             "pattern": {
              "fillmode": "overlay",
              "size": 10,
              "solidity": 0.2
             }
            },
            "type": "histogram"
           }
          ],
          "histogram2d": [
           {
            "colorbar": {
             "outlinewidth": 0,
             "ticks": ""
            },
            "colorscale": [
             [
              0,
              "#0d0887"
             ],
             [
              0.1111111111111111,
              "#46039f"
             ],
             [
              0.2222222222222222,
              "#7201a8"
             ],
             [
              0.3333333333333333,
              "#9c179e"
             ],
             [
              0.4444444444444444,
              "#bd3786"
             ],
             [
              0.5555555555555556,
              "#d8576b"
             ],
             [
              0.6666666666666666,
              "#ed7953"
             ],
             [
              0.7777777777777778,
              "#fb9f3a"
             ],
             [
              0.8888888888888888,
              "#fdca26"
             ],
             [
              1,
              "#f0f921"
             ]
            ],
            "type": "histogram2d"
           }
          ],
          "histogram2dcontour": [
           {
            "colorbar": {
             "outlinewidth": 0,
             "ticks": ""
            },
            "colorscale": [
             [
              0,
              "#0d0887"
             ],
             [
              0.1111111111111111,
              "#46039f"
             ],
             [
              0.2222222222222222,
              "#7201a8"
             ],
             [
              0.3333333333333333,
              "#9c179e"
             ],
             [
              0.4444444444444444,
              "#bd3786"
             ],
             [
              0.5555555555555556,
              "#d8576b"
             ],
             [
              0.6666666666666666,
              "#ed7953"
             ],
             [
              0.7777777777777778,
              "#fb9f3a"
             ],
             [
              0.8888888888888888,
              "#fdca26"
             ],
             [
              1,
              "#f0f921"
             ]
            ],
            "type": "histogram2dcontour"
           }
          ],
          "mesh3d": [
           {
            "colorbar": {
             "outlinewidth": 0,
             "ticks": ""
            },
            "type": "mesh3d"
           }
          ],
          "parcoords": [
           {
            "line": {
             "colorbar": {
              "outlinewidth": 0,
              "ticks": ""
             }
            },
            "type": "parcoords"
           }
          ],
          "pie": [
           {
            "automargin": true,
            "type": "pie"
           }
          ],
          "scatter": [
           {
            "fillpattern": {
             "fillmode": "overlay",
             "size": 10,
             "solidity": 0.2
            },
            "type": "scatter"
           }
          ],
          "scatter3d": [
           {
            "line": {
             "colorbar": {
              "outlinewidth": 0,
              "ticks": ""
             }
            },
            "marker": {
             "colorbar": {
              "outlinewidth": 0,
              "ticks": ""
             }
            },
            "type": "scatter3d"
           }
          ],
          "scattercarpet": [
           {
            "marker": {
             "colorbar": {
              "outlinewidth": 0,
              "ticks": ""
             }
            },
            "type": "scattercarpet"
           }
          ],
          "scattergeo": [
           {
            "marker": {
             "colorbar": {
              "outlinewidth": 0,
              "ticks": ""
             }
            },
            "type": "scattergeo"
           }
          ],
          "scattergl": [
           {
            "marker": {
             "colorbar": {
              "outlinewidth": 0,
              "ticks": ""
             }
            },
            "type": "scattergl"
           }
          ],
          "scattermapbox": [
           {
            "marker": {
             "colorbar": {
              "outlinewidth": 0,
              "ticks": ""
             }
            },
            "type": "scattermapbox"
           }
          ],
          "scatterpolar": [
           {
            "marker": {
             "colorbar": {
              "outlinewidth": 0,
              "ticks": ""
             }
            },
            "type": "scatterpolar"
           }
          ],
          "scatterpolargl": [
           {
            "marker": {
             "colorbar": {
              "outlinewidth": 0,
              "ticks": ""
             }
            },
            "type": "scatterpolargl"
           }
          ],
          "scatterternary": [
           {
            "marker": {
             "colorbar": {
              "outlinewidth": 0,
              "ticks": ""
             }
            },
            "type": "scatterternary"
           }
          ],
          "surface": [
           {
            "colorbar": {
             "outlinewidth": 0,
             "ticks": ""
            },
            "colorscale": [
             [
              0,
              "#0d0887"
             ],
             [
              0.1111111111111111,
              "#46039f"
             ],
             [
              0.2222222222222222,
              "#7201a8"
             ],
             [
              0.3333333333333333,
              "#9c179e"
             ],
             [
              0.4444444444444444,
              "#bd3786"
             ],
             [
              0.5555555555555556,
              "#d8576b"
             ],
             [
              0.6666666666666666,
              "#ed7953"
             ],
             [
              0.7777777777777778,
              "#fb9f3a"
             ],
             [
              0.8888888888888888,
              "#fdca26"
             ],
             [
              1,
              "#f0f921"
             ]
            ],
            "type": "surface"
           }
          ],
          "table": [
           {
            "cells": {
             "fill": {
              "color": "#EBF0F8"
             },
             "line": {
              "color": "white"
             }
            },
            "header": {
             "fill": {
              "color": "#C8D4E3"
             },
             "line": {
              "color": "white"
             }
            },
            "type": "table"
           }
          ]
         },
         "layout": {
          "annotationdefaults": {
           "arrowcolor": "#2a3f5f",
           "arrowhead": 0,
           "arrowwidth": 1
          },
          "autotypenumbers": "strict",
          "coloraxis": {
           "colorbar": {
            "outlinewidth": 0,
            "ticks": ""
           }
          },
          "colorscale": {
           "diverging": [
            [
             0,
             "#8e0152"
            ],
            [
             0.1,
             "#c51b7d"
            ],
            [
             0.2,
             "#de77ae"
            ],
            [
             0.3,
             "#f1b6da"
            ],
            [
             0.4,
             "#fde0ef"
            ],
            [
             0.5,
             "#f7f7f7"
            ],
            [
             0.6,
             "#e6f5d0"
            ],
            [
             0.7,
             "#b8e186"
            ],
            [
             0.8,
             "#7fbc41"
            ],
            [
             0.9,
             "#4d9221"
            ],
            [
             1,
             "#276419"
            ]
           ],
           "sequential": [
            [
             0,
             "#0d0887"
            ],
            [
             0.1111111111111111,
             "#46039f"
            ],
            [
             0.2222222222222222,
             "#7201a8"
            ],
            [
             0.3333333333333333,
             "#9c179e"
            ],
            [
             0.4444444444444444,
             "#bd3786"
            ],
            [
             0.5555555555555556,
             "#d8576b"
            ],
            [
             0.6666666666666666,
             "#ed7953"
            ],
            [
             0.7777777777777778,
             "#fb9f3a"
            ],
            [
             0.8888888888888888,
             "#fdca26"
            ],
            [
             1,
             "#f0f921"
            ]
           ],
           "sequentialminus": [
            [
             0,
             "#0d0887"
            ],
            [
             0.1111111111111111,
             "#46039f"
            ],
            [
             0.2222222222222222,
             "#7201a8"
            ],
            [
             0.3333333333333333,
             "#9c179e"
            ],
            [
             0.4444444444444444,
             "#bd3786"
            ],
            [
             0.5555555555555556,
             "#d8576b"
            ],
            [
             0.6666666666666666,
             "#ed7953"
            ],
            [
             0.7777777777777778,
             "#fb9f3a"
            ],
            [
             0.8888888888888888,
             "#fdca26"
            ],
            [
             1,
             "#f0f921"
            ]
           ]
          },
          "colorway": [
           "#636efa",
           "#EF553B",
           "#00cc96",
           "#ab63fa",
           "#FFA15A",
           "#19d3f3",
           "#FF6692",
           "#B6E880",
           "#FF97FF",
           "#FECB52"
          ],
          "font": {
           "color": "#2a3f5f"
          },
          "geo": {
           "bgcolor": "white",
           "lakecolor": "white",
           "landcolor": "#E5ECF6",
           "showlakes": true,
           "showland": true,
           "subunitcolor": "white"
          },
          "hoverlabel": {
           "align": "left"
          },
          "hovermode": "closest",
          "mapbox": {
           "style": "light"
          },
          "paper_bgcolor": "white",
          "plot_bgcolor": "#E5ECF6",
          "polar": {
           "angularaxis": {
            "gridcolor": "white",
            "linecolor": "white",
            "ticks": ""
           },
           "bgcolor": "#E5ECF6",
           "radialaxis": {
            "gridcolor": "white",
            "linecolor": "white",
            "ticks": ""
           }
          },
          "scene": {
           "xaxis": {
            "backgroundcolor": "#E5ECF6",
            "gridcolor": "white",
            "gridwidth": 2,
            "linecolor": "white",
            "showbackground": true,
            "ticks": "",
            "zerolinecolor": "white"
           },
           "yaxis": {
            "backgroundcolor": "#E5ECF6",
            "gridcolor": "white",
            "gridwidth": 2,
            "linecolor": "white",
            "showbackground": true,
            "ticks": "",
            "zerolinecolor": "white"
           },
           "zaxis": {
            "backgroundcolor": "#E5ECF6",
            "gridcolor": "white",
            "gridwidth": 2,
            "linecolor": "white",
            "showbackground": true,
            "ticks": "",
            "zerolinecolor": "white"
           }
          },
          "shapedefaults": {
           "line": {
            "color": "#2a3f5f"
           }
          },
          "ternary": {
           "aaxis": {
            "gridcolor": "white",
            "linecolor": "white",
            "ticks": ""
           },
           "baxis": {
            "gridcolor": "white",
            "linecolor": "white",
            "ticks": ""
           },
           "bgcolor": "#E5ECF6",
           "caxis": {
            "gridcolor": "white",
            "linecolor": "white",
            "ticks": ""
           }
          },
          "title": {
           "x": 0.05
          },
          "xaxis": {
           "automargin": true,
           "gridcolor": "white",
           "linecolor": "white",
           "ticks": "",
           "title": {
            "standoff": 15
           },
           "zerolinecolor": "white",
           "zerolinewidth": 2
          },
          "yaxis": {
           "automargin": true,
           "gridcolor": "white",
           "linecolor": "white",
           "ticks": "",
           "title": {
            "standoff": 15
           },
           "zerolinecolor": "white",
           "zerolinewidth": 2
          }
         }
        },
        "width": 1000,
        "xaxis": {
         "scaleratio": 1
        },
        "yaxis": {
         "scaleratio": 1
        }
       }
      },
      "image/png": "[encoded data removed]",
      "text/html": [
       "<div>                            <div id=\"6aaca885-f8f4-456c-948c-d6059d8a3c40\" class=\"plotly-graph-div\" style=\"height:800px; width:1000px;\"></div>            <script type=\"text/javascript\">                require([\"plotly\"], function(Plotly) {                    window.PLOTLYENV=window.PLOTLYENV || {};                                    if (document.getElementById(\"6aaca885-f8f4-456c-948c-d6059d8a3c40\")) {                    Plotly.newPlot(                        \"6aaca885-f8f4-456c-948c-d6059d8a3c40\",                        [{\"line\":{\"color\":\"rgb(0, 0, 255)\",\"width\":2},\"marker\":{\"size\":2},\"showlegend\":false,\"x\":[0,80],\"y\":[0,0],\"z\":[0,0],\"type\":\"scatter3d\"},{\"line\":{\"color\":\"rgb(0, 0, 255)\",\"width\":2},\"marker\":{\"size\":2},\"showlegend\":false,\"x\":[80,80],\"y\":[0,25],\"z\":[0,0],\"type\":\"scatter3d\"},{\"line\":{\"color\":\"rgb(0, 0, 255)\",\"width\":2},\"marker\":{\"size\":2},\"showlegend\":false,\"x\":[80,0],\"y\":[25,25],\"z\":[0,0],\"type\":\"scatter3d\"},{\"line\":{\"color\":\"rgb(0, 0, 255)\",\"width\":2},\"marker\":{\"size\":2},\"showlegend\":false,\"x\":[0,0],\"y\":[25,0],\"z\":[0,0],\"type\":\"scatter3d\"},{\"line\":{\"color\":\"rgb(0, 0, 255)\",\"width\":2},\"marker\":{\"size\":2},\"showlegend\":false,\"x\":[0,80],\"y\":[0,0],\"z\":[20,20],\"type\":\"scatter3d\"},{\"line\":{\"color\":\"rgb(0, 0, 255)\",\"width\":2},\"marker\":{\"size\":2},\"showlegend\":false,\"x\":[80,80],\"y\":[0,25],\"z\":[20,20],\"type\":\"scatter3d\"},{\"line\":{\"color\":\"rgb(0, 0, 255)\",\"width\":2},\"marker\":{\"size\":2},\"showlegend\":false,\"x\":[80,0],\"y\":[25,25],\"z\":[20,20],\"type\":\"scatter3d\"},{\"line\":{\"color\":\"rgb(0, 0, 255)\",\"width\":2},\"marker\":{\"size\":2},\"showlegend\":false,\"x\":[0,0],\"y\":[25,0],\"z\":[20,20],\"type\":\"scatter3d\"},{\"line\":{\"color\":\"rgb(0, 0, 255)\",\"width\":2},\"marker\":{\"size\":2},\"showlegend\":false,\"x\":[0,0],\"y\":[0,0],\"z\":[0,20],\"type\":\"scatter3d\"},{\"line\":{\"color\":\"rgb(0, 0, 255)\",\"width\":2},\"marker\":{\"size\":2},\"showlegend\":false,\"x\":[80,80],\"y\":[0,0],\"z\":[0,20],\"type\":\"scatter3d\"},{\"line\":{\"color\":\"rgb(0, 0, 255)\",\"width\":2},\"marker\":{\"size\":2},\"showlegend\":false,\"x\":[80,80],\"y\":[25,25],\"z\":[0,20],\"type\":\"scatter3d\"},{\"line\":{\"color\":\"rgb(0, 0, 255)\",\"width\":2},\"marker\":{\"size\":2},\"showlegend\":false,\"x\":[0,0],\"y\":[25,25],\"z\":[0,20],\"type\":\"scatter3d\"},{\"color\":\"rgb(0, 0, 255)\",\"i\":[0,4,1,5,2,6,3,7,4,4],\"j\":[1,5,2,6,3,7,0,4,5,6],\"k\":[4,1,5,2,6,3,7,0,6,7],\"opacity\":0.25,\"x\":[0,80,80,0,0,80,80,0],\"y\":[0,0,25,25,0,0,25,25],\"z\":[0,0,0,0,20,20,20,20],\"type\":\"mesh3d\"},{\"line\":{\"color\":\"rgb(255, 0, 0)\",\"width\":2},\"marker\":{\"size\":2},\"showlegend\":false,\"x\":[10,15],\"y\":[10,10],\"z\":[0,0],\"type\":\"scatter3d\"},{\"line\":{\"color\":\"rgb(255, 0, 0)\",\"width\":2},\"marker\":{\"size\":2},\"showlegend\":false,\"x\":[15,10],\"y\":[10,20],\"z\":[0,0],\"type\":\"scatter3d\"},{\"line\":{\"color\":\"rgb(255, 0, 0)\",\"width\":2},\"marker\":{\"size\":2},\"showlegend\":false,\"x\":[10,15],\"y\":[10,10],\"z\":[20,20],\"type\":\"scatter3d\"},{\"line\":{\"color\":\"rgb(255, 0, 0)\",\"width\":2},\"marker\":{\"size\":2},\"showlegend\":false,\"x\":[15,10],\"y\":[10,20],\"z\":[20,20],\"type\":\"scatter3d\"},{\"line\":{\"color\":\"rgb(255, 0, 0)\",\"width\":2},\"marker\":{\"size\":2},\"showlegend\":false,\"x\":[10,10],\"y\":[10,10],\"z\":[0,20],\"type\":\"scatter3d\"},{\"line\":{\"color\":\"rgb(255, 0, 0)\",\"width\":2},\"marker\":{\"size\":2},\"showlegend\":false,\"x\":[15,15],\"y\":[10,10],\"z\":[0,20],\"type\":\"scatter3d\"},{\"line\":{\"color\":\"rgb(255, 0, 0)\",\"width\":2},\"marker\":{\"size\":2},\"showlegend\":false,\"x\":[10,10],\"y\":[20,20],\"z\":[0,20],\"type\":\"scatter3d\"},{\"color\":\"rgb(255, 0, 0)\",\"i\":[0,3,1,4],\"j\":[1,4,2,5],\"k\":[3,1,4,2],\"opacity\":0.25,\"x\":[10,15,10,10,15,10],\"y\":[10,10,20,10,10,20],\"z\":[0,0,0,20,20,20],\"type\":\"mesh3d\"},{\"line\":{\"color\":\"rgb(255, 0, 0)\",\"width\":2},\"marker\":{\"size\":2},\"showlegend\":false,\"x\":[30,35],\"y\":[10,10],\"z\":[0,0],\"type\":\"scatter3d\"},{\"line\":{\"color\":\"rgb(255, 0, 0)\",\"width\":2},\"marker\":{\"size\":2},\"showlegend\":false,\"x\":[35,30],\"y\":[10,20],\"z\":[0,0],\"type\":\"scatter3d\"},{\"line\":{\"color\":\"rgb(255, 0, 0)\",\"width\":2},\"marker\":{\"size\":2},\"showlegend\":false,\"x\":[30,35],\"y\":[10,10],\"z\":[20,20],\"type\":\"scatter3d\"},{\"line\":{\"color\":\"rgb(255, 0, 0)\",\"width\":2},\"marker\":{\"size\":2},\"showlegend\":false,\"x\":[35,30],\"y\":[10,20],\"z\":[20,20],\"type\":\"scatter3d\"},{\"line\":{\"color\":\"rgb(255, 0, 0)\",\"width\":2},\"marker\":{\"size\":2},\"showlegend\":false,\"x\":[30,30],\"y\":[10,10],\"z\":[0,20],\"type\":\"scatter3d\"},{\"line\":{\"color\":\"rgb(255, 0, 0)\",\"width\":2},\"marker\":{\"size\":2},\"showlegend\":false,\"x\":[35,35],\"y\":[10,10],\"z\":[0,20],\"type\":\"scatter3d\"},{\"line\":{\"color\":\"rgb(255, 0, 0)\",\"width\":2},\"marker\":{\"size\":2},\"showlegend\":false,\"x\":[30,30],\"y\":[20,20],\"z\":[0,20],\"type\":\"scatter3d\"},{\"color\":\"rgb(255, 0, 0)\",\"i\":[0,3,1,4],\"j\":[1,4,2,5],\"k\":[3,1,4,2],\"opacity\":0.25,\"x\":[30,35,30,30,35,30],\"y\":[10,10,20,10,10,20],\"z\":[0,0,0,20,20,20],\"type\":\"mesh3d\"}],                        {\"template\":{\"data\":{\"histogram2dcontour\":[{\"type\":\"histogram2dcontour\",\"colorbar\":{\"outlinewidth\":0,\"ticks\":\"\"},\"colorscale\":[[0.0,\"#0d0887\"],[0.1111111111111111,\"#46039f\"],[0.2222222222222222,\"#7201a8\"],[0.3333333333333333,\"#9c179e\"],[0.4444444444444444,\"#bd3786\"],[0.5555555555555556,\"#d8576b\"],[0.6666666666666666,\"#ed7953\"],[0.7777777777777778,\"#fb9f3a\"],[0.8888888888888888,\"#fdca26\"],[1.0,\"#f0f921\"]]}],\"choropleth\":[{\"type\":\"choropleth\",\"colorbar\":{\"outlinewidth\":0,\"ticks\":\"\"}}],\"histogram2d\":[{\"type\":\"histogram2d\",\"colorbar\":{\"outlinewidth\":0,\"ticks\":\"\"},\"colorscale\":[[0.0,\"#0d0887\"],[0.1111111111111111,\"#46039f\"],[0.2222222222222222,\"#7201a8\"],[0.3333333333333333,\"#9c179e\"],[0.4444444444444444,\"#bd3786\"],[0.5555555555555556,\"#d8576b\"],[0.6666666666666666,\"#ed7953\"],[0.7777777777777778,\"#fb9f3a\"],[0.8888888888888888,\"#fdca26\"],[1.0,\"#f0f921\"]]}],\"heatmap\":[{\"type\":\"heatmap\",\"colorbar\":{\"outlinewidth\":0,\"ticks\":\"\"},\"colorscale\":[[0.0,\"#0d0887\"],[0.1111111111111111,\"#46039f\"],[0.2222222222222222,\"#7201a8\"],[0.3333333333333333,\"#9c179e\"],[0.4444444444444444,\"#bd3786\"],[0.5555555555555556,\"#d8576b\"],[0.6666666666666666,\"#ed7953\"],[0.7777777777777778,\"#fb9f3a\"],[0.8888888888888888,\"#fdca26\"],[1.0,\"#f0f921\"]]}],\"heatmapgl\":[{\"type\":\"heatmapgl\",\"colorbar\":{\"outlinewidth\":0,\"ticks\":\"\"},\"colorscale\":[[0.0,\"#0d0887\"],[0.1111111111111111,\"#46039f\"],[0.2222222222222222,\"#7201a8\"],[0.3333333333333333,\"#9c179e\"],[0.4444444444444444,\"#bd3786\"],[0.5555555555555556,\"#d8576b\"],[0.6666666666666666,\"#ed7953\"],[0.7777777777777778,\"#fb9f3a\"],[0.8888888888888888,\"#fdca26\"],[1.0,\"#f0f921\"]]}],\"contourcarpet\":[{\"type\":\"contourcarpet\",\"colorbar\":{\"outlinewidth\":0,\"ticks\":\"\"}}],\"contour\":[{\"type\":\"contour\",\"colorbar\":{\"outlinewidth\":0,\"ticks\":\"\"},\"colorscale\":[[0.0,\"#0d0887\"],[0.1111111111111111,\"#46039f\"],[0.2222222222222222,\"#7201a8\"],[0.3333333333333333,\"#9c179e\"],[0.4444444444444444,\"#bd3786\"],[0.5555555555555556,\"#d8576b\"],[0.6666666666666666,\"#ed7953\"],[0.7777777777777778,\"#fb9f3a\"],[0.8888888888888888,\"#fdca26\"],[1.0,\"#f0f921\"]]}],\"surface\":[{\"type\":\"surface\",\"colorbar\":{\"outlinewidth\":0,\"ticks\":\"\"},\"colorscale\":[[0.0,\"#0d0887\"],[0.1111111111111111,\"#46039f\"],[0.2222222222222222,\"#7201a8\"],[0.3333333333333333,\"#9c179e\"],[0.4444444444444444,\"#bd3786\"],[0.5555555555555556,\"#d8576b\"],[0.6666666666666666,\"#ed7953\"],[0.7777777777777778,\"#fb9f3a\"],[0.8888888888888888,\"#fdca26\"],[1.0,\"#f0f921\"]]}],\"mesh3d\":[{\"type\":\"mesh3d\",\"colorbar\":{\"outlinewidth\":0,\"ticks\":\"\"}}],\"scatter\":[{\"fillpattern\":{\"fillmode\":\"overlay\",\"size\":10,\"solidity\":0.2},\"type\":\"scatter\"}],\"parcoords\":[{\"type\":\"parcoords\",\"line\":{\"colorbar\":{\"outlinewidth\":0,\"ticks\":\"\"}}}],\"scatterpolargl\":[{\"type\":\"scatterpolargl\",\"marker\":{\"colorbar\":{\"outlinewidth\":0,\"ticks\":\"\"}}}],\"bar\":[{\"error_x\":{\"color\":\"#2a3f5f\"},\"error_y\":{\"color\":\"#2a3f5f\"},\"marker\":{\"line\":{\"color\":\"#E5ECF6\",\"width\":0.5},\"pattern\":{\"fillmode\":\"overlay\",\"size\":10,\"solidity\":0.2}},\"type\":\"bar\"}],\"scattergeo\":[{\"type\":\"scattergeo\",\"marker\":{\"colorbar\":{\"outlinewidth\":0,\"ticks\":\"\"}}}],\"scatterpolar\":[{\"type\":\"scatterpolar\",\"marker\":{\"colorbar\":{\"outlinewidth\":0,\"ticks\":\"\"}}}],\"histogram\":[{\"marker\":{\"pattern\":{\"fillmode\":\"overlay\",\"size\":10,\"solidity\":0.2}},\"type\":\"histogram\"}],\"scattergl\":[{\"type\":\"scattergl\",\"marker\":{\"colorbar\":{\"outlinewidth\":0,\"ticks\":\"\"}}}],\"scatter3d\":[{\"type\":\"scatter3d\",\"line\":{\"colorbar\":{\"outlinewidth\":0,\"ticks\":\"\"}},\"marker\":{\"colorbar\":{\"outlinewidth\":0,\"ticks\":\"\"}}}],\"scattermapbox\":[{\"type\":\"scattermapbox\",\"marker\":{\"colorbar\":{\"outlinewidth\":0,\"ticks\":\"\"}}}],\"scatterternary\":[{\"type\":\"scatterternary\",\"marker\":{\"colorbar\":{\"outlinewidth\":0,\"ticks\":\"\"}}}],\"scattercarpet\":[{\"type\":\"scattercarpet\",\"marker\":{\"colorbar\":{\"outlinewidth\":0,\"ticks\":\"\"}}}],\"carpet\":[{\"aaxis\":{\"endlinecolor\":\"#2a3f5f\",\"gridcolor\":\"white\",\"linecolor\":\"white\",\"minorgridcolor\":\"white\",\"startlinecolor\":\"#2a3f5f\"},\"baxis\":{\"endlinecolor\":\"#2a3f5f\",\"gridcolor\":\"white\",\"linecolor\":\"white\",\"minorgridcolor\":\"white\",\"startlinecolor\":\"#2a3f5f\"},\"type\":\"carpet\"}],\"table\":[{\"cells\":{\"fill\":{\"color\":\"#EBF0F8\"},\"line\":{\"color\":\"white\"}},\"header\":{\"fill\":{\"color\":\"#C8D4E3\"},\"line\":{\"color\":\"white\"}},\"type\":\"table\"}],\"barpolar\":[{\"marker\":{\"line\":{\"color\":\"#E5ECF6\",\"width\":0.5},\"pattern\":{\"fillmode\":\"overlay\",\"size\":10,\"solidity\":0.2}},\"type\":\"barpolar\"}],\"pie\":[{\"automargin\":true,\"type\":\"pie\"}]},\"layout\":{\"autotypenumbers\":\"strict\",\"colorway\":[\"#636efa\",\"#EF553B\",\"#00cc96\",\"#ab63fa\",\"#FFA15A\",\"#19d3f3\",\"#FF6692\",\"#B6E880\",\"#FF97FF\",\"#FECB52\"],\"font\":{\"color\":\"#2a3f5f\"},\"hovermode\":\"closest\",\"hoverlabel\":{\"align\":\"left\"},\"paper_bgcolor\":\"white\",\"plot_bgcolor\":\"#E5ECF6\",\"polar\":{\"bgcolor\":\"#E5ECF6\",\"angularaxis\":{\"gridcolor\":\"white\",\"linecolor\":\"white\",\"ticks\":\"\"},\"radialaxis\":{\"gridcolor\":\"white\",\"linecolor\":\"white\",\"ticks\":\"\"}},\"ternary\":{\"bgcolor\":\"#E5ECF6\",\"aaxis\":{\"gridcolor\":\"white\",\"linecolor\":\"white\",\"ticks\":\"\"},\"baxis\":{\"gridcolor\":\"white\",\"linecolor\":\"white\",\"ticks\":\"\"},\"caxis\":{\"gridcolor\":\"white\",\"linecolor\":\"white\",\"ticks\":\"\"}},\"coloraxis\":{\"colorbar\":{\"outlinewidth\":0,\"ticks\":\"\"}},\"colorscale\":{\"sequential\":[[0.0,\"#0d0887\"],[0.1111111111111111,\"#46039f\"],[0.2222222222222222,\"#7201a8\"],[0.3333333333333333,\"#9c179e\"],[0.4444444444444444,\"#bd3786\"],[0.5555555555555556,\"#d8576b\"],[0.6666666666666666,\"#ed7953\"],[0.7777777777777778,\"#fb9f3a\"],[0.8888888888888888,\"#fdca26\"],[1.0,\"#f0f921\"]],\"sequentialminus\":[[0.0,\"#0d0887\"],[0.1111111111111111,\"#46039f\"],[0.2222222222222222,\"#7201a8\"],[0.3333333333333333,\"#9c179e\"],[0.4444444444444444,\"#bd3786\"],[0.5555555555555556,\"#d8576b\"],[0.6666666666666666,\"#ed7953\"],[0.7777777777777778,\"#fb9f3a\"],[0.8888888888888888,\"#fdca26\"],[1.0,\"#f0f921\"]],\"diverging\":[[0,\"#8e0152\"],[0.1,\"#c51b7d\"],[0.2,\"#de77ae\"],[0.3,\"#f1b6da\"],[0.4,\"#fde0ef\"],[0.5,\"#f7f7f7\"],[0.6,\"#e6f5d0\"],[0.7,\"#b8e186\"],[0.8,\"#7fbc41\"],[0.9,\"#4d9221\"],[1,\"#276419\"]]},\"xaxis\":{\"gridcolor\":\"white\",\"linecolor\":\"white\",\"ticks\":\"\",\"title\":{\"standoff\":15},\"zerolinecolor\":\"white\",\"automargin\":true,\"zerolinewidth\":2},\"yaxis\":{\"gridcolor\":\"white\",\"linecolor\":\"white\",\"ticks\":\"\",\"title\":{\"standoff\":15},\"zerolinecolor\":\"white\",\"automargin\":true,\"zerolinewidth\":2},\"scene\":{\"xaxis\":{\"backgroundcolor\":\"#E5ECF6\",\"gridcolor\":\"white\",\"linecolor\":\"white\",\"showbackground\":true,\"ticks\":\"\",\"zerolinecolor\":\"white\",\"gridwidth\":2},\"yaxis\":{\"backgroundcolor\":\"#E5ECF6\",\"gridcolor\":\"white\",\"linecolor\":\"white\",\"showbackground\":true,\"ticks\":\"\",\"zerolinecolor\":\"white\",\"gridwidth\":2},\"zaxis\":{\"backgroundcolor\":\"#E5ECF6\",\"gridcolor\":\"white\",\"linecolor\":\"white\",\"showbackground\":true,\"ticks\":\"\",\"zerolinecolor\":\"white\",\"gridwidth\":2}},\"shapedefaults\":{\"line\":{\"color\":\"#2a3f5f\"}},\"annotationdefaults\":{\"arrowcolor\":\"#2a3f5f\",\"arrowhead\":0,\"arrowwidth\":1},\"geo\":{\"bgcolor\":\"white\",\"landcolor\":\"#E5ECF6\",\"subunitcolor\":\"white\",\"showland\":true,\"showlakes\":true,\"lakecolor\":\"white\"},\"title\":{\"x\":0.05},\"mapbox\":{\"style\":\"light\"}}},\"height\":800,\"width\":1000,\"scene\":{\"xaxis\":{\"range\":[0,176.0],\"autorange\":\"reversed\"}},\"xaxis\":{\"scaleratio\":1},\"yaxis\":{\"scaleratio\":1}},                        {\"responsive\": true}                    ).then(function(){\n",
       "                            \n",
       "var gd = document.getElementById('6aaca885-f8f4-456c-948c-d6059d8a3c40');\n",
       "var x = new MutationObserver(function (mutations, observer) {{\n",
       "        var display = window.getComputedStyle(gd).display;\n",
       "        if (!display || display === 'none') {{\n",
       "            console.log([gd, 'removed!']);\n",
       "            Plotly.purge(gd);\n",
       "            observer.disconnect();\n",
       "        }}\n",
       "}});\n",
       "\n",
       "// Listen for the removal of the full notebook cells\n",
       "var notebookContainer = gd.closest('#notebook-container');\n",
       "if (notebookContainer) {{\n",
       "    x.observe(notebookContainer, {childList: true});\n",
       "}}\n",
       "\n",
       "// Listen for the clearing of the current output cell\n",
       "var outputEl = gd.closest('.output');\n",
       "if (outputEl) {{\n",
       "    x.observe(outputEl, {childList: true});\n",
       "}}\n",
       "\n",
       "                        })                };                });            </script>        </div>"
      ]
     },
     "metadata": {},
     "output_type": "display_data"
    }
   ],
   "source": [
    "fig.layout.height = 800\n",
    "fig.layout.width = 1000\n",
    "fig.layout.scene.xaxis.range = (0, building_w * 2.2)\n",
    "fig.layout.xaxis.scaleratio = 1\n",
    "fig.layout.yaxis.scaleratio = 1\n",
    "fig.update_scenes(xaxis_autorange=\"reversed\")\n",
    "fig"
   ]
  }
 ],
 "metadata": {
  "kernelspec": {
   "display_name": "pfse",
   "language": "python",
   "name": "pfse"
  },
  "language_info": {
   "codemirror_mode": {
    "name": "ipython",
    "version": 3
   },
   "file_extension": ".py",
   "mimetype": "text/x-python",
   "name": "python",
   "nbconvert_exporter": "python",
   "pygments_lexer": "ipython3",
   "version": "3.9.16"
  }
 },
 "nbformat": 4,
 "nbformat_minor": 5
}
